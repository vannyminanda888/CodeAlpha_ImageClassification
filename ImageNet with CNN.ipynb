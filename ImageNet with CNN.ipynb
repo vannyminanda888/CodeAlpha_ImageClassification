{
 "cells": [
  {
   "cell_type": "markdown",
   "id": "bd3981cc-c5de-48ae-8e03-8edd2c5dcf4a",
   "metadata": {},
   "source": [
    "# Importing some Libraries\n"
   ]
  },
  {
   "cell_type": "code",
   "execution_count": 5,
   "id": "2a4e623b-81cd-4010-863d-5d237fb87ef6",
   "metadata": {},
   "outputs": [],
   "source": [
    "# !pip install scikit-learn\n",
    "\n",
    "import tensorflow as tf\n",
    "from tensorflow.keras.preprocessing import image_dataset_from_directory\n",
    "import os\n",
    "import shutil\n",
    "from sklearn.model_selection import train_test_split"
   ]
  },
  {
   "cell_type": "markdown",
   "id": "89b411eb-cd45-4ee3-97bd-39cc08bf0d9c",
   "metadata": {},
   "source": [
    "# Loading ImageNet dataset"
   ]
  },
  {
   "cell_type": "code",
   "execution_count": 7,
   "id": "76533514-53d5-4931-b077-47b768357aa7",
   "metadata": {},
   "outputs": [],
   "source": [
    "# Step 1.1: Define the dataset directory path\n",
    "dataset_dir = 'C:/Users/HP-Miko/Desktop/imageNet dataset/dataset'"
   ]
  },
  {
   "cell_type": "code",
   "execution_count": 8,
   "id": "757c02e0-f00f-43f5-a146-fd77b8684e53",
   "metadata": {},
   "outputs": [],
   "source": [
    "# Step 1.2: Split the dataset into training and validation\n",
    "# Create directories path!!!!!!!!!\n",
    "train_dir = 'C:/Users/HP-Miko/Desktop/imageNet dataset/train'\n",
    "val_dir = 'C:/Users/HP-Miko/Desktop/imageNet dataset/val'"
   ]
  },
  {
   "cell_type": "code",
   "execution_count": 9,
   "id": "77dc8f00-0f5c-4cb9-a44a-3d8fbad0d624",
   "metadata": {},
   "outputs": [],
   "source": [
    "# generating a new dictionary\n",
    "os.makedirs(train_dir, exist_ok=True)\n",
    "os.makedirs(val_dir, exist_ok=True)"
   ]
  },
  {
   "cell_type": "markdown",
   "id": "6330b6bf-f5ef-4457-81a5-f4a5ff48e71e",
   "metadata": {},
   "source": [
    "# Data Preprocessing"
   ]
  },
  {
   "cell_type": "code",
   "execution_count": 10,
   "id": "3614447b-ff6b-4c4a-a92d-f28c0dbb18c6",
   "metadata": {},
   "outputs": [
    {
     "ename": "ValueError",
     "evalue": "With n_samples=0, test_size=0.2 and train_size=None, the resulting train set will be empty. Adjust any of the aforementioned parameters.",
     "output_type": "error",
     "traceback": [
      "\u001b[1;31m---------------------------------------------------------------------------\u001b[0m",
      "\u001b[1;31mValueError\u001b[0m                                Traceback (most recent call last)",
      "Cell \u001b[1;32mIn[10], line 7\u001b[0m\n\u001b[0;32m      4\u001b[0m \u001b[38;5;28;01mif\u001b[39;00m os\u001b[38;5;241m.\u001b[39mpath\u001b[38;5;241m.\u001b[39misdir(class_path):  \u001b[38;5;66;03m# Ignore any non-folder files\u001b[39;00m\n\u001b[0;32m      5\u001b[0m     \u001b[38;5;66;03m# Get all image files in the class folder\u001b[39;00m\n\u001b[0;32m      6\u001b[0m     all_images \u001b[38;5;241m=\u001b[39m os\u001b[38;5;241m.\u001b[39mlistdir(class_path)\n\u001b[1;32m----> 7\u001b[0m     train_images, val_images \u001b[38;5;241m=\u001b[39m \u001b[43mtrain_test_split\u001b[49m\u001b[43m(\u001b[49m\u001b[43mall_images\u001b[49m\u001b[43m,\u001b[49m\u001b[43m \u001b[49m\u001b[43mtest_size\u001b[49m\u001b[38;5;241;43m=\u001b[39;49m\u001b[38;5;241;43m0.2\u001b[39;49m\u001b[43m,\u001b[49m\u001b[43m \u001b[49m\u001b[43mrandom_state\u001b[49m\u001b[38;5;241;43m=\u001b[39;49m\u001b[38;5;241;43m42\u001b[39;49m\u001b[43m)\u001b[49m\n\u001b[0;32m      9\u001b[0m     \u001b[38;5;66;03m# Create class directories inside train and val\u001b[39;00m\n\u001b[0;32m     10\u001b[0m     os\u001b[38;5;241m.\u001b[39mmakedirs(os\u001b[38;5;241m.\u001b[39mpath\u001b[38;5;241m.\u001b[39mjoin(train_dir, class_name), exist_ok\u001b[38;5;241m=\u001b[39m\u001b[38;5;28;01mTrue\u001b[39;00m)\n",
      "File \u001b[1;32m~\\miniconda3\\envs\\tf\\lib\\site-packages\\sklearn\\utils\\_param_validation.py:216\u001b[0m, in \u001b[0;36mvalidate_params.<locals>.decorator.<locals>.wrapper\u001b[1;34m(*args, **kwargs)\u001b[0m\n\u001b[0;32m    210\u001b[0m \u001b[38;5;28;01mtry\u001b[39;00m:\n\u001b[0;32m    211\u001b[0m     \u001b[38;5;28;01mwith\u001b[39;00m config_context(\n\u001b[0;32m    212\u001b[0m         skip_parameter_validation\u001b[38;5;241m=\u001b[39m(\n\u001b[0;32m    213\u001b[0m             prefer_skip_nested_validation \u001b[38;5;129;01mor\u001b[39;00m global_skip_validation\n\u001b[0;32m    214\u001b[0m         )\n\u001b[0;32m    215\u001b[0m     ):\n\u001b[1;32m--> 216\u001b[0m         \u001b[38;5;28;01mreturn\u001b[39;00m func(\u001b[38;5;241m*\u001b[39margs, \u001b[38;5;241m*\u001b[39m\u001b[38;5;241m*\u001b[39mkwargs)\n\u001b[0;32m    217\u001b[0m \u001b[38;5;28;01mexcept\u001b[39;00m InvalidParameterError \u001b[38;5;28;01mas\u001b[39;00m e:\n\u001b[0;32m    218\u001b[0m     \u001b[38;5;66;03m# When the function is just a wrapper around an estimator, we allow\u001b[39;00m\n\u001b[0;32m    219\u001b[0m     \u001b[38;5;66;03m# the function to delegate validation to the estimator, but we replace\u001b[39;00m\n\u001b[0;32m    220\u001b[0m     \u001b[38;5;66;03m# the name of the estimator by the name of the function in the error\u001b[39;00m\n\u001b[0;32m    221\u001b[0m     \u001b[38;5;66;03m# message to avoid confusion.\u001b[39;00m\n\u001b[0;32m    222\u001b[0m     msg \u001b[38;5;241m=\u001b[39m re\u001b[38;5;241m.\u001b[39msub(\n\u001b[0;32m    223\u001b[0m         \u001b[38;5;124mr\u001b[39m\u001b[38;5;124m\"\u001b[39m\u001b[38;5;124mparameter of \u001b[39m\u001b[38;5;124m\\\u001b[39m\u001b[38;5;124mw+ must be\u001b[39m\u001b[38;5;124m\"\u001b[39m,\n\u001b[0;32m    224\u001b[0m         \u001b[38;5;124mf\u001b[39m\u001b[38;5;124m\"\u001b[39m\u001b[38;5;124mparameter of \u001b[39m\u001b[38;5;132;01m{\u001b[39;00mfunc\u001b[38;5;241m.\u001b[39m\u001b[38;5;18m__qualname__\u001b[39m\u001b[38;5;132;01m}\u001b[39;00m\u001b[38;5;124m must be\u001b[39m\u001b[38;5;124m\"\u001b[39m,\n\u001b[0;32m    225\u001b[0m         \u001b[38;5;28mstr\u001b[39m(e),\n\u001b[0;32m    226\u001b[0m     )\n",
      "File \u001b[1;32m~\\miniconda3\\envs\\tf\\lib\\site-packages\\sklearn\\model_selection\\_split.py:2851\u001b[0m, in \u001b[0;36mtrain_test_split\u001b[1;34m(test_size, train_size, random_state, shuffle, stratify, *arrays)\u001b[0m\n\u001b[0;32m   2848\u001b[0m arrays \u001b[38;5;241m=\u001b[39m indexable(\u001b[38;5;241m*\u001b[39marrays)\n\u001b[0;32m   2850\u001b[0m n_samples \u001b[38;5;241m=\u001b[39m _num_samples(arrays[\u001b[38;5;241m0\u001b[39m])\n\u001b[1;32m-> 2851\u001b[0m n_train, n_test \u001b[38;5;241m=\u001b[39m \u001b[43m_validate_shuffle_split\u001b[49m\u001b[43m(\u001b[49m\n\u001b[0;32m   2852\u001b[0m \u001b[43m    \u001b[49m\u001b[43mn_samples\u001b[49m\u001b[43m,\u001b[49m\u001b[43m \u001b[49m\u001b[43mtest_size\u001b[49m\u001b[43m,\u001b[49m\u001b[43m \u001b[49m\u001b[43mtrain_size\u001b[49m\u001b[43m,\u001b[49m\u001b[43m \u001b[49m\u001b[43mdefault_test_size\u001b[49m\u001b[38;5;241;43m=\u001b[39;49m\u001b[38;5;241;43m0.25\u001b[39;49m\n\u001b[0;32m   2853\u001b[0m \u001b[43m\u001b[49m\u001b[43m)\u001b[49m\n\u001b[0;32m   2855\u001b[0m \u001b[38;5;28;01mif\u001b[39;00m shuffle \u001b[38;5;129;01mis\u001b[39;00m \u001b[38;5;28;01mFalse\u001b[39;00m:\n\u001b[0;32m   2856\u001b[0m     \u001b[38;5;28;01mif\u001b[39;00m stratify \u001b[38;5;129;01mis\u001b[39;00m \u001b[38;5;129;01mnot\u001b[39;00m \u001b[38;5;28;01mNone\u001b[39;00m:\n",
      "File \u001b[1;32m~\\miniconda3\\envs\\tf\\lib\\site-packages\\sklearn\\model_selection\\_split.py:2481\u001b[0m, in \u001b[0;36m_validate_shuffle_split\u001b[1;34m(n_samples, test_size, train_size, default_test_size)\u001b[0m\n\u001b[0;32m   2478\u001b[0m n_train, n_test \u001b[38;5;241m=\u001b[39m \u001b[38;5;28mint\u001b[39m(n_train), \u001b[38;5;28mint\u001b[39m(n_test)\n\u001b[0;32m   2480\u001b[0m \u001b[38;5;28;01mif\u001b[39;00m n_train \u001b[38;5;241m==\u001b[39m \u001b[38;5;241m0\u001b[39m:\n\u001b[1;32m-> 2481\u001b[0m     \u001b[38;5;28;01mraise\u001b[39;00m \u001b[38;5;167;01mValueError\u001b[39;00m(\n\u001b[0;32m   2482\u001b[0m         \u001b[38;5;124m\"\u001b[39m\u001b[38;5;124mWith n_samples=\u001b[39m\u001b[38;5;132;01m{}\u001b[39;00m\u001b[38;5;124m, test_size=\u001b[39m\u001b[38;5;132;01m{}\u001b[39;00m\u001b[38;5;124m and train_size=\u001b[39m\u001b[38;5;132;01m{}\u001b[39;00m\u001b[38;5;124m, the \u001b[39m\u001b[38;5;124m\"\u001b[39m\n\u001b[0;32m   2483\u001b[0m         \u001b[38;5;124m\"\u001b[39m\u001b[38;5;124mresulting train set will be empty. Adjust any of the \u001b[39m\u001b[38;5;124m\"\u001b[39m\n\u001b[0;32m   2484\u001b[0m         \u001b[38;5;124m\"\u001b[39m\u001b[38;5;124maforementioned parameters.\u001b[39m\u001b[38;5;124m\"\u001b[39m\u001b[38;5;241m.\u001b[39mformat(n_samples, test_size, train_size)\n\u001b[0;32m   2485\u001b[0m     )\n\u001b[0;32m   2487\u001b[0m \u001b[38;5;28;01mreturn\u001b[39;00m n_train, n_test\n",
      "\u001b[1;31mValueError\u001b[0m: With n_samples=0, test_size=0.2 and train_size=None, the resulting train set will be empty. Adjust any of the aforementioned parameters."
     ]
    }
   ],
   "source": [
    "# Step 1.3: Split each class folder into train and validation sets (80/20 split)\n",
    "for class_name in os.listdir(dataset_dir):\n",
    "    class_path = os.path.join(dataset_dir, class_name)\n",
    "    if os.path.isdir(class_path):  # Ignore any non-folder files\n",
    "        # Get all image files in the class folder\n",
    "        all_images = os.listdir(class_path)\n",
    "        train_images, val_images = train_test_split(all_images, test_size=0.2, random_state=42)\n",
    "\n",
    "        # Create class directories inside train and val\n",
    "        os.makedirs(os.path.join(train_dir, class_name), exist_ok=True)\n",
    "        os.makedirs(os.path.join(val_dir, class_name), exist_ok=True)\n",
    "\n",
    "        # Move the images to their respective directories\n",
    "        for image in train_images:\n",
    "            shutil.move(os.path.join(class_path, image), os.path.join(train_dir, class_name, image))\n",
    "        for image in val_images:\n",
    "            shutil.move(os.path.join(class_path, image), os.path.join(val_dir, class_name, image))\n",
    "        "
   ]
  },
  {
   "cell_type": "code",
   "execution_count": 12,
   "id": "cd759ecd-8933-4710-8925-f747a8c9f346",
   "metadata": {},
   "outputs": [
    {
     "name": "stdout",
     "output_type": "stream",
     "text": [
      "Found 431480 files belonging to 1000 classes.\n",
      "Found 108346 files belonging to 1000 classes.\n"
     ]
    }
   ],
   "source": [
    "# Step 1.4: Load the training and validation datasets using image_dataset_from_directory\n",
    "train_dataset = tf.keras.preprocessing.image_dataset_from_directory(\n",
    "    train_dir,\n",
    "    image_size=(224, 224),\n",
    "    batch_size=64,\n",
    "    label_mode='int',\n",
    "    shuffle=True\n",
    ")\n",
    "\n",
    "val_dataset = tf.keras.preprocessing.image_dataset_from_directory(\n",
    "    val_dir,\n",
    "    image_size=(224, 224),\n",
    "    batch_size=64,\n",
    "    label_mode='int',\n",
    "    shuffle=False\n",
    ")"
   ]
  },
  {
   "cell_type": "code",
   "execution_count": 13,
   "id": "34e3dc01-60c0-48b4-8ef9-2114002bdffb",
   "metadata": {
    "scrolled": true
   },
   "outputs": [
    {
     "name": "stdout",
     "output_type": "stream",
     "text": [
      "Total classes: 1000\n",
      "First few class names: ['abacus', 'abaya', 'academic_gown', 'accordion', 'acorn']\n"
     ]
    }
   ],
   "source": [
    "class_names = train_dataset.class_names\n",
    "print(f\"Total classes: {len(class_names)}\")\n",
    "print(f\"First few class names: {class_names[:5]}\")"
   ]
  },
  {
   "cell_type": "code",
   "execution_count": 14,
   "id": "29565221-85f8-4bb8-ae17-25d5ee99b925",
   "metadata": {},
   "outputs": [],
   "source": [
    "# Step 1.5: Normalize the pixel values            # THIS CODE IS TOO ADVANCED VANNY\n",
    "AUTOTUNE = tf.data.AUTOTUNE\n",
    "train_dataset = train_dataset.map(lambda x, y: (x / 255.0, y), num_parallel_calls=AUTOTUNE)\n",
    "val_dataset = val_dataset.map(lambda x, y: (x / 255.0, y), num_parallel_calls=AUTOTUNE)"
   ]
  },
  {
   "cell_type": "code",
   "execution_count": 15,
   "id": "9f7f5fb5-c6bf-416c-b66f-5f575daad480",
   "metadata": {},
   "outputs": [],
   "source": [
    "# Step 1.6: Prefetch data for better performance\n",
    "train_dataset = train_dataset.prefetch(buffer_size=AUTOTUNE)\n",
    "val_dataset = val_dataset.prefetch(buffer_size=AUTOTUNE)"
   ]
  },
  {
   "cell_type": "code",
   "execution_count": 16,
   "id": "b20374c7-2c49-4748-8248-fa72c2746b99",
   "metadata": {},
   "outputs": [
    {
     "name": "stdout",
     "output_type": "stream",
     "text": [
      "Total classes: 1000\n",
      "First few class names: ['abacus', 'abaya', 'academic_gown', 'accordion', 'acorn']\n"
     ]
    }
   ],
   "source": [
    "# Step 1.7: Check class names (optional)\n",
    "print(f\"Total classes: {len(class_names)}\")\n",
    "print(f\"First few class names: {class_names[:5]}\")"
   ]
  },
  {
   "cell_type": "markdown",
   "id": "d1c24068-e497-4079-b4eb-6e5f179fbf73",
   "metadata": {},
   "source": [
    "# Building CNN Model"
   ]
  },
  {
   "cell_type": "code",
   "execution_count": 17,
   "id": "8892666e-1db4-4e63-870d-ae7a47efa324",
   "metadata": {},
   "outputs": [
    {
     "name": "stdout",
     "output_type": "stream",
     "text": [
      "[name: \"/device:CPU:0\"\n",
      "device_type: \"CPU\"\n",
      "memory_limit: 268435456\n",
      "locality {\n",
      "}\n",
      "incarnation: 7104408382083613842\n",
      "xla_global_id: -1\n",
      ", name: \"/device:GPU:0\"\n",
      "device_type: \"GPU\"\n",
      "memory_limit: 10046511513\n",
      "locality {\n",
      "  bus_id: 1\n",
      "  links {\n",
      "  }\n",
      "}\n",
      "incarnation: 1335640275128181237\n",
      "physical_device_desc: \"device: 0, name: NVIDIA TITAN X (Pascal), pci bus id: 0000:15:00.0, compute capability: 6.1\"\n",
      "xla_global_id: 416903419\n",
      ", name: \"/device:GPU:1\"\n",
      "device_type: \"GPU\"\n",
      "memory_limit: 10046511513\n",
      "locality {\n",
      "  bus_id: 1\n",
      "  links {\n",
      "  }\n",
      "}\n",
      "incarnation: 4690211649423845402\n",
      "physical_device_desc: \"device: 1, name: NVIDIA TITAN X (Pascal), pci bus id: 0000:2d:00.0, compute capability: 6.1\"\n",
      "xla_global_id: 2144165316\n",
      ", name: \"/device:GPU:2\"\n",
      "device_type: \"GPU\"\n",
      "memory_limit: 10046511513\n",
      "locality {\n",
      "  bus_id: 1\n",
      "  links {\n",
      "  }\n",
      "}\n",
      "incarnation: 11368422746268010905\n",
      "physical_device_desc: \"device: 2, name: NVIDIA TITAN X (Pascal), pci bus id: 0000:99:00.0, compute capability: 6.1\"\n",
      "xla_global_id: 1651660799\n",
      "]\n"
     ]
    }
   ],
   "source": [
    "from tensorflow.python.client import device_lib\n",
    "print(device_lib.list_local_devices())"
   ]
  },
  {
   "cell_type": "code",
   "execution_count": 18,
   "id": "512b2513-d84b-4201-8a4d-af87d93e5331",
   "metadata": {},
   "outputs": [
    {
     "name": "stdout",
     "output_type": "stream",
     "text": [
      "Num GPUs Available:  3\n"
     ]
    }
   ],
   "source": [
    "import tensorflow as tf\n",
    "print(\"Num GPUs Available: \", len(tf.config.list_physical_devices('GPU')))"
   ]
  },
  {
   "cell_type": "code",
   "execution_count": 19,
   "id": "2149ce88-ec1c-474b-bfa8-867a274b3f09",
   "metadata": {},
   "outputs": [
    {
     "name": "stdout",
     "output_type": "stream",
     "text": [
      "✅ GPU detected: [PhysicalDevice(name='/physical_device:GPU:0', device_type='GPU'), PhysicalDevice(name='/physical_device:GPU:1', device_type='GPU'), PhysicalDevice(name='/physical_device:GPU:2', device_type='GPU')]\n"
     ]
    }
   ],
   "source": [
    "\n",
    "gpus = tf.config.list_physical_devices('GPU')\n",
    "if gpus:\n",
    "    print(f\"✅ GPU detected: {gpus}\")\n",
    "else:\n",
    "    print(\"❌ No GPU detected. TensorFlow is using CPU.\")"
   ]
  },
  {
   "cell_type": "code",
   "execution_count": 20,
   "id": "fb827a1d-efe0-424a-a323-8947e73deae7",
   "metadata": {},
   "outputs": [],
   "source": [
    "os.environ['TF_CPP_MIN_LOG_LEVEL'] = '0'  # Show all logs"
   ]
  },
  {
   "cell_type": "code",
   "execution_count": 21,
   "id": "31ae02ec-8bc2-49af-88cd-af3befcdf928",
   "metadata": {},
   "outputs": [
    {
     "name": "stdout",
     "output_type": "stream",
     "text": [
      "Epoch 1/20\n",
      "6742/6742 [==============================] - 671s 98ms/step - loss: 1.8869 - accuracy: 0.5776 - val_loss: 1.1495 - val_accuracy: 0.7058\n",
      "Epoch 2/20\n",
      "6742/6742 [==============================] - 679s 101ms/step - loss: 1.5547 - accuracy: 0.6391 - val_loss: 1.1567 - val_accuracy: 0.7119\n",
      "Epoch 3/20\n",
      "6742/6742 [==============================] - 680s 101ms/step - loss: 1.5225 - accuracy: 0.6502 - val_loss: 1.2050 - val_accuracy: 0.7101\n",
      "Epoch 4/20\n",
      "6742/6742 [==============================] - 681s 101ms/step - loss: 1.4987 - accuracy: 0.6580 - val_loss: 1.2494 - val_accuracy: 0.7085\n",
      "Epoch 5/20\n",
      "6742/6742 [==============================] - 680s 101ms/step - loss: 1.4890 - accuracy: 0.6627 - val_loss: 1.2914 - val_accuracy: 0.7086\n",
      "Epoch 6/20\n",
      "6742/6742 [==============================] - 678s 100ms/step - loss: 1.4857 - accuracy: 0.6658 - val_loss: 1.3282 - val_accuracy: 0.7069\n",
      "Epoch 7/20\n",
      "6742/6742 [==============================] - 681s 101ms/step - loss: 1.4854 - accuracy: 0.6688 - val_loss: 1.3781 - val_accuracy: 0.7054\n",
      "Epoch 8/20\n",
      "6742/6742 [==============================] - 682s 101ms/step - loss: 1.4860 - accuracy: 0.6696 - val_loss: 1.4595 - val_accuracy: 0.7027\n",
      "Epoch 9/20\n",
      "6742/6742 [==============================] - 685s 102ms/step - loss: 1.4871 - accuracy: 0.6731 - val_loss: 1.4967 - val_accuracy: 0.7026\n",
      "Epoch 10/20\n",
      "6742/6742 [==============================] - 684s 101ms/step - loss: 1.4872 - accuracy: 0.6736 - val_loss: 1.5310 - val_accuracy: 0.7005\n",
      "Epoch 11/20\n",
      "6742/6742 [==============================] - 679s 101ms/step - loss: 1.4931 - accuracy: 0.6745 - val_loss: 1.5813 - val_accuracy: 0.7000\n",
      "Epoch 12/20\n",
      "6742/6742 [==============================] - 680s 101ms/step - loss: 1.4983 - accuracy: 0.6756 - val_loss: 1.6823 - val_accuracy: 0.6989\n",
      "Epoch 13/20\n",
      "6742/6742 [==============================] - 682s 101ms/step - loss: 1.5027 - accuracy: 0.6763 - val_loss: 1.7090 - val_accuracy: 0.6930\n",
      "Epoch 14/20\n",
      "6742/6742 [==============================] - 671s 99ms/step - loss: 1.5059 - accuracy: 0.6766 - val_loss: 1.7588 - val_accuracy: 0.6947\n",
      "Epoch 15/20\n",
      "6742/6742 [==============================] - 674s 100ms/step - loss: 1.5165 - accuracy: 0.6765 - val_loss: 1.7933 - val_accuracy: 0.6945\n",
      "Epoch 16/20\n",
      "6742/6742 [==============================] - 676s 100ms/step - loss: 1.5208 - accuracy: 0.6776 - val_loss: 1.8182 - val_accuracy: 0.6910\n",
      "Epoch 17/20\n",
      "6742/6742 [==============================] - 677s 100ms/step - loss: 1.5295 - accuracy: 0.6772 - val_loss: 1.8668 - val_accuracy: 0.6901\n",
      "Epoch 18/20\n",
      "6742/6742 [==============================] - 677s 100ms/step - loss: 1.5432 - accuracy: 0.6764 - val_loss: 1.9355 - val_accuracy: 0.6875\n",
      "Epoch 19/20\n",
      "6742/6742 [==============================] - 677s 100ms/step - loss: 1.5469 - accuracy: 0.6765 - val_loss: 2.0189 - val_accuracy: 0.6838\n",
      "Epoch 20/20\n",
      "6742/6742 [==============================] - 681s 101ms/step - loss: 1.5569 - accuracy: 0.6760 - val_loss: 2.0264 - val_accuracy: 0.6855\n",
      "1693/1693 [==============================] - 140s 82ms/step - loss: 2.0264 - accuracy: 0.6855\n"
     ]
    }
   ],
   "source": [
    "from tensorflow.keras.applications import MobileNetV2\n",
    "from tensorflow.keras import layers, models\n",
    "import datetime\n",
    "from tensorflow.keras.callbacks import TensorBoard\n",
    "\n",
    "# Create a logs directory with a timestamp\n",
    "log_dir = \"logs/fit/\" + datetime.datetime.now().strftime(\"%Y%m%d-%H%M%S\")\n",
    "tensorboard_callback = TensorBoard(log_dir=log_dir, histogram_freq=1)\n",
    "\n",
    "\n",
    "# Load the base model (pretrained on ImageNet)\n",
    "base_model = MobileNetV2(input_shape=(224, 224, 3),\n",
    "                         include_top=False,  # Exclude the original final layer\n",
    "                         weights='imagenet')\n",
    "base_model.trainable = False  # Freeze the base\n",
    "\n",
    "# Add your own classifier on top\n",
    "model = models.Sequential([\n",
    "    base_model,\n",
    "    layers.GlobalAveragePooling2D(),\n",
    "    layers.Dense(1024, activation='relu'),\n",
    "    layers.Dropout(0.5),\n",
    "    layers.Dense(len(class_names), activation='softmax')  # thousands of classes!\n",
    "])\n",
    "model.compile(optimizer='adam',\n",
    "              loss='sparse_categorical_crossentropy',\n",
    "              metrics=['accuracy'])\n",
    "\n",
    "history = model.fit(\n",
    "    train_dataset,\n",
    "    validation_data=val_dataset,\n",
    "    epochs=20,\n",
    "    callbacks=[tensorboard_callback]\n",
    ")\n",
    "\n",
    "model.evaluate(val_dataset)\n",
    "model.save('my_model.h5')"
   ]
  },
  {
   "cell_type": "code",
   "execution_count": null,
   "id": "bdfe0bc6-5092-4466-842e-909afcb4d8f4",
   "metadata": {},
   "outputs": [],
   "source": []
  },
  {
   "cell_type": "code",
   "execution_count": null,
   "id": "7e483d89-6797-4dd4-bce6-09a4a5f7ce3e",
   "metadata": {},
   "outputs": [],
   "source": [
    "%load_ext tensorboard\n",
    "%tensorboard --logdir logs/fit"
   ]
  },
  {
   "cell_type": "code",
   "execution_count": 22,
   "id": "5122ab0a-aada-4769-97bc-1dccb7525e09",
   "metadata": {},
   "outputs": [
    {
     "data": {
      "image/png": "[encoded data removed]",
      "text/plain": [
       "<Figure size 640x480 with 1 Axes>"
      ]
     },
     "metadata": {},
     "output_type": "display_data"
    },
    {
     "data": {
      "image/png": "[encoded data removed]",
      "text/plain": [
       "<Figure size 640x480 with 1 Axes>"
      ]
     },
     "metadata": {},
     "output_type": "display_data"
    }
   ],
   "source": [
    "import matplotlib.pyplot as plt\n",
    "\n",
    "# Accuracy\n",
    "plt.plot(history.history['accuracy'], label='Train Accuracy')\n",
    "plt.plot(history.history['val_accuracy'], label='Val Accuracy')\n",
    "plt.legend()\n",
    "plt.title('Accuracy Over Epochs')\n",
    "plt.show()\n",
    "\n",
    "# Loss\n",
    "plt.plot(history.history['loss'], label='Train Loss')\n",
    "plt.plot(history.history['val_loss'], label='Val Loss')\n",
    "plt.legend()\n",
    "plt.title('Loss Over Epochs')\n",
    "plt.show()\n"
   ]
  },
  {
   "cell_type": "code",
   "execution_count": null,
   "id": "5bc37fa7-b362-48ee-b159-2d2e76f66fa8",
   "metadata": {},
   "outputs": [],
   "source": []
  }
 ],
 "metadata": {
  "kernelspec": {
   "display_name": "Python 3 (ipykernel)",
   "language": "python",
   "name": "python3"
  },
  "language_info": {
   "codemirror_mode": {
    "name": "ipython",
    "version": 3
   },
   "file_extension": ".py",
   "mimetype": "text/x-python",
   "name": "python",
   "nbconvert_exporter": "python",
   "pygments_lexer": "ipython3",
   "version": "3.9.21"
  }
 },
 "nbformat": 4,
 "nbformat_minor": 5
}
